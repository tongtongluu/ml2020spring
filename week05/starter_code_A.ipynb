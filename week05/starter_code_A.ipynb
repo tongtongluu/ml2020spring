{
 "cells": [
  {
   "cell_type": "code",
   "execution_count": 1,
   "metadata": {},
   "outputs": [],
   "source": [
    "import numpy as np\n",
    "import pandas as pd\n",
    "import matplotlib.pyplot as plt\n",
    "%matplotlib inline"
   ]
  },
  {
   "cell_type": "markdown",
   "metadata": {},
   "source": [
    "### read the raw data"
   ]
  },
  {
   "cell_type": "code",
   "execution_count": 2,
   "metadata": {},
   "outputs": [
    {
     "name": "stdout",
     "output_type": "stream",
     "text": [
      "term          object\n",
      "definition    object\n",
      "ml              bool\n",
      "dtype: object\n",
      "               term                                         definition    ml\n",
      "0  machine learning  Machine learning is the development of functio...  True\n",
      "1  machine learning  it is training an algorithm on how to make pre...  True\n",
      "2  machine learning  Computers making decisions and learning throug...  True\n",
      "3  machine learning  Creating a model to teach an algorithm to reco...  True\n",
      "4  machine learning  Applying a model to a large amount of data to ...  True\n",
      "5  machine learning  A subset/practice of Artificial Intelligence w...  True\n",
      "6  machine learning   let machine read a lot of data, and conclude ...  True\n",
      "7  machine learning  machine process of aggregating information in ...  True\n",
      "8  machine learning  Automatic or semi-automatic updating of equati...  True\n",
      "9  machine learning  Machine Learning is a method of computation th...  True\n"
     ]
    }
   ],
   "source": [
    "data = pd.read_csv('/Users/Aaron_hill/repos/visualizedata/ml/week01/metadata/definitions.csv')\n",
    "\n",
    "# create a boolean indicator =True if the definition is of \"machine learning\"\n",
    "data['ml'] = data['term'] == 'machine learning'\n",
    "\n",
    "print(data.dtypes)\n",
    "print(data.head(10))"
   ]
  },
  {
   "cell_type": "markdown",
   "metadata": {},
   "source": [
    "### <span style=\"color:red\">create feature set X (matrix) and vector of labels L</span>\n",
    "\n",
    "Use [feature extraction methods in scikit-learn](http://scikit-learn.org/stable/modules/feature_extraction.html#text-feature-extraction) to *vectorize* the text of machine learning/AI definitions into an X matrix. "
   ]
  },
  {
   "cell_type": "code",
   "execution_count": 3,
   "metadata": {},
   "outputs": [
    {
     "name": "stdout",
     "output_type": "stream",
     "text": [
      "(107, 494)\n"
     ]
    }
   ],
   "source": [
    "from sklearn.feature_extraction.text import CountVectorizer\n",
    "\n",
    "L = data[\"ml\"] # labels\n",
    "corpus = data['definition'] # corpus of reviews in words\n",
    "vectorizer = CountVectorizer()\n",
    "X = vectorizer.fit_transform(corpus)\n",
    "print(X.shape)"
   ]
  },
  {
   "cell_type": "markdown",
   "metadata": {},
   "source": [
    "### let's look at the words in the corpus of \"definition\""
   ]
  },
  {
   "cell_type": "code",
   "execution_count": 4,
   "metadata": {},
   "outputs": [
    {
     "name": "stdout",
     "output_type": "stream",
     "text": [
      "494\n",
      "* * * * *\n",
      "{'machine': 241, 'learning': 228, 'is': 210, 'the': 418, 'development': 114, 'of': 284, 'functions': 158, 'made': 243, 'on': 285, 'patterns': 305, 'found': 154, 'in': 193, 'data': 101, 'it': 211, 'training': 442, 'an': 24, 'algorithm': 17, 'how': 185, 'to': 437, 'make': 245, 'predictions': 315, 'computers': 85, 'making': 247, 'decisions': 105, 'and': 26, 'through': 433, 'algorithms': 18, 'trained': 441, 'human': 186, 'inputs': 203, 'creating': 92, 'model': 263, 'teach': 409, 'recognize': 339, 'applying': 29, 'large': 225, 'amount': 23, 'meaningful': 254, 'pattern': 304, 'output': 297, 'from': 156, 'subset': 393, 'practice': 313, 'artificial': 33, 'intelligence': 205, 'which': 478, 'improves': 192, 'based': 45, 'ingesting': 201, 'let': 231, 'read': 335, 'lot': 240, 'conclude': 86, 'program': 325, 'by': 61, 'itself': 213, 'then': 420, 'when': 474, 'encounter': 128, 'with': 486, 'new': 277, 'can': 62, 'automatically': 41, 'deal': 103, 'some': 381, 'are': 30, 'supervised': 397, 'unsupervised': 456, 'process': 322, 'aggregating': 15, 'information': 200, 'order': 290, 'generate': 160, 'synthesize': 402, 'insights': 204, 'automatic': 40, 'or': 289, 'semi': 362, 'updating': 459, 'equations': 132, 'parameters': 302, 'using': 464, 'automated': 39, 'parameter': 301, 'curve': 98, 'response': 351, 'surface': 400, 'fitting': 150, 'method': 257, 'computation': 82, 'that': 417, 'allows': 21, 'inferences': 199, 'known': 222, 'historical': 183, 'unique': 454, 'way': 470, 'computer': 84, 'input': 202, 'definition': 108, 'success': 394, 'but': 60, 'has': 175, 'flexibility': 151, 'defining': 107, 'gets': 163, 'successful': 395, 'solution': 378, 'able': 2, 'adapt': 11, 'learn': 226, 'they': 422, 'programmed': 327, 'creation': 93, 'intelligent': 206, 'application': 28, 'reduces': 343, 'errors': 134, 'most': 270, 'times': 436, 'makes': 246, 'tedious': 411, 'tasks': 407, 'easier': 124, 'for': 153, 'us': 460, 'sort': 385, 'categorize': 67, 'comb': 77, 'sets': 370, 'very': 468, 'quickly': 332, 'reduce': 342, 'labor': 223, 'set': 369, 'programmable': 326, 'processes': 323, 'used': 462, 'classify': 73, 'various': 467, 'kinds': 215, 'images': 190, 'numbers': 282, 'text': 415, 'etc': 135, 'complete': 79, 'certain': 69, 'having': 177, 'get': 162, 'better': 53, 'at': 37, 'recognizing': 340, 'such': 396, 'react': 334, 'solve': 380, 'those': 430, 'situations': 375, 'translating': 444, 'language': 224, 'predictive': 316, 'computational': 83, 'ml': 261, 'followed': 152, 'optimization': 288, 'whereby': 476, 'tested': 414, 'test': 413, 'increase': 196, 'accuracy': 6, 'prediction': 314, 'given': 164, 'task': 406, 'provided': 330, 'examples': 138, 'performance': 309, 'measures': 256, 'where': 475, 'paired': 300, 'be': 46, 'perform': 308, 'useful': 463, 'function': 157, 'train': 440, 'any': 27, 'kind': 214, 'manner': 249, 'achieve': 7, 'goal': 165, 'copying': 89, 'behavior': 49, 'even': 136, 'than': 416, 'regular': 345, 'being': 50, 'ability': 1, 'identify': 188, 'something': 382, 'groups': 169, 'been': 48, 'whether': 477, 'visual': 469, 'systems': 404, 'understand': 453, 'real': 336, 'world': 489, 'datasets': 102, 'so': 377, 'similar': 373, 'other': 293, 'its': 212, 'masses': 251, 'this': 429, 'statistics': 391, 'introducing': 209, 'filtering': 145, 'system': 403, 'distinguishes': 118, 'them': 419, 'about': 3, 'object': 283, 'criteria': 96, 'describes': 110, 'find': 146, 'recognition': 338, 'constantly': 88, 'modifying': 267, 'rules': 354, 'technology': 410, 'work': 488, 'could': 90, 'run': 355, 'under': 451, 'logic': 238, 'era': 133, 'weak': 471, 'ai': 16, 'finish': 147, 'single': 374, 'also': 22, 'do': 119, 'multi': 272, 'same': 357, 'time': 435, 'skill': 376, 'machines': 242, 'take': 405, 'statements': 389, 'see': 360, 'things': 425, 'taught': 408, 'people': 306, 'acting': 9, 'like': 233, 'self': 361, 'prior': 319, 'knowledge': 221, 'history': 184, 'interacted': 208, 'assumptions': 36, 'act': 8, 'generative': 161, 'supported': 398, 'as': 34, 'underlying': 452, 'framework': 155, 'enabling': 127, 'advanced': 13, 'recommendation': 341, 'complicated': 81, 'if': 189, 'mimics': 259, 'thought': 431, 'thinks': 428, 'thinking': 427, 'route': 353, 'tries': 446, 'emulate': 126, 'think': 426, 'enough': 130, 'chose': 72, 'infer': 198, 'own': 299, 'what': 472, 'learned': 227, 'previously': 318, 'brain': 57, 'have': 176, 'producing': 324, 'outcomes': 295, 'solutions': 379, 'would': 490, 'mimic': 258, 'best': 52, 'case': 65, 'scenario': 358, 'code': 75, 'designed': 111, 'enhance': 129, 'autonomous': 42, 'reinforcing': 346, 'capable': 64, 'originated': 292, 'beings': 51, 'use': 461, 'higher': 181, 'non': 279, 'linear': 235, 'updated': 458, 'complex': 80, 'umbrella': 450, 'term': 412, 'all': 19, 'subgenres': 392, 'includes': 194, 'one': 286, 'destination': 112, 'actually': 10, 'more': 269, 'you': 492, 'create': 91, 'potentially': 312, 'access': 5, 'allowing': 20, 'man': 248, 'builds': 59, 'up': 457, 'throughout': 434, 'series': 368, 'pretends': 317, 'without': 487, 'brains': 58, 'main': 244, 'ultimate': 449, 'collecting': 76, 'analyzing': 25, 'whatever': 473, 'true': 447, 'conscious': 87, 'unobserved': 455, 'really': 337, 'mean': 253, 'phrase': 311, 'good': 166, 'marketing': 250, 'attempts': 38, 'problem': 321, 'modeled': 264, 'after': 14, 'mind': 260, 'show': 371, 'exhibit': 139, 'group': 168, 'type': 448, 'ask': 35, 'over': 298, 'repetitive': 348, 'may': 252, 'creative': 94, 'future': 159, 'learns': 229, 'customer': 99, 'currently': 97, 'defined': 106, 'differently': 116, 'depending': 109, 'who': 483, 'refers': 344, 'capability': 63, 'intelligently': 207, 'creatively': 95, 'modify': 266, 'experience': 140, 'including': 195, 'improve': 191, 'adapted': 12, 'come': 78, 'decision': 104, 'don': 120, 'know': 220, 'whiskers': 480, 'kitty': 219, 'cat': 66, 'sounds': 386, 'name': 274, 'cats': 68, 'python': 331, 'library': 232, 'long': 239, 'hairs': 174, 'side': 372, 'nose': 280, 'aaron': 0, 'wrote': 491, 'monitor': 268, 'his': 182, 'pet': 310, 'while': 479, 'he': 178, 'away': 43, 'vacation': 466, 'my': 273, 'guess': 172, 'related': 347, 'outliers': 296, 'statistical': 390, 'models': 265, 'no': 278, 'idea': 187, 'need': 276, 'google': 167, 'translate': 443, 'out': 294, 'translucent': 445, 'sometimes': 383, 'spiky': 388, 'threads': 432, 'around': 32, 'mouth': 271, 'area': 31, 'little': 237, 'cute': 100, 'face': 142, 'not': 281, 'sure': 399, 'baby': 44, 'tool': 439, 'sensing': 364, 'environment': 131, 'specifically': 387, 'check': 70, 'head': 179, 'body': 56, 'fit': 149, 'opening': 287, 'thick': 423, 'protrude': 329, 'young': 493, 'lil': 234, 'feline': 144, 'sensors': 366, 'width': 484, 'perception': 307, 'device': 115, 'kitties': 218, 'sense': 363, 'respond': 350, 'wispy': 485, 'white': 482, 'clear': 74, 'above': 4, 'dont': 121, 'probably': 320, 'kitten': 216, 'drinking': 122, 'whiskey': 481, 'running': 356, 'drunk': 123, 'external': 141, 'sensory': 367, 'organ': 291, 'hair': 173, 'sensitive': 365, 'detection': 113, 'search': 359, 'mmmm': 262, 'sorry': 384, 'diminutive': 117, 'infant': 197, 'part': 303, 'resemble': 349, 'therefore': 421, 'means': 255, 'heard': 180, 'today': 438, 'first': 148, 'protector': 328, 'lines': 236, 'chicks': 71, 'black': 55, 'thin': 424, 'grow': 170, 'eventually': 137, 'fall': 143, 'usually': 465, 'symmetrical': 401, 'left': 230, 'right': 352, 'between': 54, 'growing': 171, 'near': 275, 'kittens': 217, 'beating': 47, 'raw': 333, 'eggs': 125}\n"
     ]
    }
   ],
   "source": [
    "print(len(vectorizer.vocabulary_))\n",
    "print(\"* * * * *\")\n",
    "print(vectorizer.vocabulary_)"
   ]
  },
  {
   "cell_type": "markdown",
   "metadata": {},
   "source": [
    "### <span style=\"color:red\">fit X, L to SVM using gradient descent</span>\n",
    "\n",
    "[gradient descent documentation](http://scikit-learn.org/stable/modules/generated/sklearn.linear_model.SGDClassifier.html)"
   ]
  },
  {
   "cell_type": "code",
   "execution_count": 5,
   "metadata": {},
   "outputs": [
    {
     "name": "stderr",
     "output_type": "stream",
     "text": [
      "/anaconda3/lib/python3.7/site-packages/sklearn/linear_model/stochastic_gradient.py:166: FutureWarning: max_iter and tol parameters have been added in SGDClassifier in 0.19. If both are left unset, they default to max_iter=5 and tol=None. If tol is not None, max_iter defaults to max_iter=1000. From 0.21, default max_iter will be 1000, and default tol will be 1e-3.\n",
      "  FutureWarning)\n"
     ]
    },
    {
     "data": {
      "text/plain": [
       "SGDClassifier(alpha=0.0001, average=False, class_weight=None,\n",
       "       early_stopping=False, epsilon=0.1, eta0=0.0, fit_intercept=True,\n",
       "       l1_ratio=0.15, learning_rate='optimal', loss='hinge', max_iter=None,\n",
       "       n_iter=None, n_iter_no_change=5, n_jobs=None, penalty='l2',\n",
       "       power_t=0.5, random_state=None, shuffle=True, tol=None,\n",
       "       validation_fraction=0.1, verbose=0, warm_start=False)"
      ]
     },
     "execution_count": 5,
     "metadata": {},
     "output_type": "execute_result"
    }
   ],
   "source": [
    "# fit SVM linear classifier\n",
    "from sklearn import linear_model\n",
    "sgd = linear_model.SGDClassifier()\n",
    "sgd.fit(X, L)"
   ]
  },
  {
   "cell_type": "markdown",
   "metadata": {},
   "source": [
    "### assess performance"
   ]
  },
  {
   "cell_type": "code",
   "execution_count": 6,
   "metadata": {},
   "outputs": [
    {
     "name": "stdout",
     "output_type": "stream",
     "text": [
      "{'Pos': 35, 'Neg': 72, 'TP': 34, 'TN': 71, 'FP': 1, 'FN': 1, 'Accuracy': 0.9813084112149533, 'Precision': 0.9714285714285714, 'Recall': 0.9714285714285714, 'desc': 'sgd'}\n"
     ]
    }
   ],
   "source": [
    "# look at performance measures\n",
    "import my_measures\n",
    "\n",
    "performance_measures = my_measures.BinaryClassificationPerformance(sgd.predict(X), L, 'sgd')\n",
    "performance_measures.compute_measures()\n",
    "print(performance_measures.performance_measures)"
   ]
  },
  {
   "cell_type": "markdown",
   "metadata": {},
   "source": [
    "![](https://upload.wikimedia.org/wikipedia/commons/thumb/2/26/Precisionrecall.svg/350px-Precisionrecall.svg.png)\n",
    "\n",
    "[source](https://en.wikipedia.org/wiki/Precision_and_recall)"
   ]
  },
  {
   "cell_type": "markdown",
   "metadata": {
    "collapsed": true
   },
   "source": [
    "### test model on unseen definitions"
   ]
  },
  {
   "cell_type": "code",
   "execution_count": 8,
   "metadata": {},
   "outputs": [
    {
     "name": "stdout",
     "output_type": "stream",
     "text": [
      "Machine learning is a field of computer science that gives computers the ability to learn without being explicitly programmed.\n",
      "* * *\n",
      "Machine learning is an application of artificial intelligence (AI) that provides systems the ability to automatically learn and improve from experience without being explicitly programmed. Machine learning focuses on the development of computer programs that can access data and use it learn for themselves.\n",
      "* * *\n",
      "Machine Learning is the science of getting computers to learn and act like humans do, and improve their learning over time in autonomous fashion, by feeding them data and information in the form of observations and real-world interactions.\n",
      "* * *\n"
     ]
    }
   ],
   "source": [
    "# machine learning definitions\n",
    "# Wikipedia, Expert System, Tech Emergence\n",
    "ml_defs = [\"Machine learning is a field of computer science that gives computers the ability to learn without being explicitly programmed.\",\n",
    "          \"Machine learning is an application of artificial intelligence (AI) that provides systems the ability to automatically learn and improve from experience without being explicitly programmed. Machine learning focuses on the development of computer programs that can access data and use it learn for themselves.\",\n",
    "          \"Machine Learning is the science of getting computers to learn and act like humans do, and improve their learning over time in autonomous fashion, by feeding them data and information in the form of observations and real-world interactions.\"]\n",
    "\n",
    "for d in ml_defs:\n",
    "    print(d)\n",
    "    print(\"* * *\")"
   ]
  },
  {
   "cell_type": "code",
   "execution_count": 9,
   "metadata": {},
   "outputs": [
    {
     "name": "stdout",
     "output_type": "stream",
     "text": [
      "Artificial intelligence (AI, also machine intelligence, MI) is intelligence demonstrated by machines, in contrast to the natural intelligence (NI) displayed by humans and other animals.\n",
      "* * *\n",
      "the theory and development of computer systems able to perform tasks that normally require human intelligence, such as visual perception, speech recognition, decision-making, and translation between languages\n",
      "* * *\n"
     ]
    }
   ],
   "source": [
    "# AI definitions\n",
    "# Wikipedia, Oxford dictionary\n",
    "ai_defs = [\"Artificial intelligence (AI, also machine intelligence, MI) is intelligence demonstrated by machines, in contrast to the natural intelligence (NI) displayed by humans and other animals.\",\n",
    "          \"the theory and development of computer systems able to perform tasks that normally require human intelligence, such as visual perception, speech recognition, decision-making, and translation between languages\"]\n",
    "\n",
    "for d in ai_defs:\n",
    "    print(d)\n",
    "    print(\"* * *\")"
   ]
  },
  {
   "cell_type": "code",
   "execution_count": 10,
   "metadata": {},
   "outputs": [
    {
     "name": "stdout",
     "output_type": "stream",
     "text": [
      "A kitten, also known as a kitty or kitty cat, is a juvenile cat.\n",
      "* * *\n",
      "The piano is an acoustic, stringed musical instrument invented in Italy by Bartolomeo Cristofori around the year 1700 in which the strings are struck by hammers.\n",
      "* * *\n",
      "a small gadget or mechanical device, especially one whose name is unknown or unspecified\n",
      "* * *\n"
     ]
    }
   ],
   "source": [
    "# Definitions of unrelated things: kitten, piano, widget\n",
    "other_defs = [\"A kitten, also known as a kitty or kitty cat, is a juvenile cat.\",\n",
    "             \"The piano is an acoustic, stringed musical instrument invented in Italy by Bartolomeo Cristofori around the year 1700 in which the strings are struck by hammers.\",\n",
    "             \"a small gadget or mechanical device, especially one whose name is unknown or unspecified\"]\n",
    "\n",
    "for d in other_defs:\n",
    "    print(d)\n",
    "    print(\"* * *\")"
   ]
  },
  {
   "cell_type": "markdown",
   "metadata": {},
   "source": [
    "### function to transform new definitions to a X vector"
   ]
  },
  {
   "cell_type": "code",
   "execution_count": 11,
   "metadata": {},
   "outputs": [],
   "source": [
    "def get_prediction(definition):\n",
    "    text_x = vectorizer.transform([definition]).toarray()\n",
    "    return(sgd.predict(text_x))"
   ]
  },
  {
   "cell_type": "markdown",
   "metadata": {},
   "source": [
    "### view predicted classifications of new definitions"
   ]
  },
  {
   "cell_type": "code",
   "execution_count": 12,
   "metadata": {},
   "outputs": [
    {
     "name": "stdout",
     "output_type": "stream",
     "text": [
      "Model predictions for 'machine learning' definitions:\n",
      "[ True]\n",
      "[False]\n",
      "[ True]\n",
      "* * *\n",
      "Model predictions for 'AI' definitions:\n",
      "[False]\n",
      "[False]\n",
      "* * *\n",
      "Model predictions for other definitions (kitten, piano, widget):\n",
      "[False]\n",
      "[False]\n",
      "[False]\n"
     ]
    }
   ],
   "source": [
    "print(\"Model predictions for 'machine learning' definitions:\")\n",
    "for mld in ml_defs:\n",
    "    print(get_prediction(mld))\n",
    "    \n",
    "print(\"* * *\")\n",
    "print(\"Model predictions for 'AI' definitions:\")\n",
    "for aid in ai_defs:\n",
    "    print(get_prediction(aid))\n",
    "\n",
    "print(\"* * *\")\n",
    "print(\"Model predictions for other definitions (kitten, piano, widget):\")\n",
    "for otherd in other_defs:\n",
    "    print(get_prediction(otherd))"
   ]
  },
  {
   "cell_type": "code",
   "execution_count": null,
   "metadata": {},
   "outputs": [],
   "source": []
  }
 ],
 "metadata": {
  "kernelspec": {
   "display_name": "Python 3",
   "language": "python",
   "name": "python3"
  },
  "language_info": {
   "codemirror_mode": {
    "name": "ipython",
    "version": 3
   },
   "file_extension": ".py",
   "mimetype": "text/x-python",
   "name": "python",
   "nbconvert_exporter": "python",
   "pygments_lexer": "ipython3",
   "version": "3.7.1"
  }
 },
 "nbformat": 4,
 "nbformat_minor": 1
}
